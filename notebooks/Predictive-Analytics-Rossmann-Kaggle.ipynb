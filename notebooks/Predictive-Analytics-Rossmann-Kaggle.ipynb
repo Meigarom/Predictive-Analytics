{
 "cells": [
  {
   "cell_type": "markdown",
   "metadata": {},
   "source": [
    "# 1. Import libraries"
   ]
  },
  {
   "cell_type": "markdown",
   "metadata": {},
   "source": [
    "# References:\n",
    "1. https://www.kaggle.com/xwxw2929/rossmann-sales-top1"
   ]
  },
  {
   "cell_type": "code",
   "execution_count": 39,
   "metadata": {
    "ExecuteTime": {
     "end_time": "2019-07-26T09:33:08.156614Z",
     "start_time": "2019-07-26T09:33:08.136145Z"
    }
   },
   "outputs": [
    {
     "ename": "ModuleNotFoundError",
     "evalue": "No module named 'xgboost'",
     "output_type": "error",
     "traceback": [
      "\u001b[0;31m---------------------------------------------------------------------------\u001b[0m",
      "\u001b[0;31mModuleNotFoundError\u001b[0m                       Traceback (most recent call last)",
      "\u001b[0;32m<ipython-input-39-1866ca1a0aa0>\u001b[0m in \u001b[0;36m<module>\u001b[0;34m()\u001b[0m\n\u001b[1;32m      2\u001b[0m \u001b[0;32mimport\u001b[0m \u001b[0mpandas\u001b[0m                  \u001b[0;32mas\u001b[0m \u001b[0mpd\u001b[0m\u001b[0;34m\u001b[0m\u001b[0m\n\u001b[1;32m      3\u001b[0m \u001b[0;32mimport\u001b[0m \u001b[0mseaborn\u001b[0m                 \u001b[0;32mas\u001b[0m \u001b[0msns\u001b[0m\u001b[0;34m\u001b[0m\u001b[0m\n\u001b[0;32m----> 4\u001b[0;31m \u001b[0;32mimport\u001b[0m \u001b[0mxgboost\u001b[0m                 \u001b[0;32mas\u001b[0m \u001b[0mxgb\u001b[0m\u001b[0;34m\u001b[0m\u001b[0m\n\u001b[0m\u001b[1;32m      5\u001b[0m \u001b[0;34m\u001b[0m\u001b[0m\n\u001b[1;32m      6\u001b[0m \u001b[0;32mfrom\u001b[0m \u001b[0mmatplotlib\u001b[0m              \u001b[0;32mimport\u001b[0m \u001b[0mpyplot\u001b[0m \u001b[0;32mas\u001b[0m \u001b[0mplt\u001b[0m\u001b[0;34m\u001b[0m\u001b[0m\n",
      "\u001b[0;31mModuleNotFoundError\u001b[0m: No module named 'xgboost'"
     ]
    }
   ],
   "source": [
    "import warnings\n",
    "import pandas                  as pd\n",
    "import seaborn                 as sns\n",
    "import xgboost                 as xgb\n",
    "\n",
    "from matplotlib              import pyplot as plt\n",
    "from IPython.core.display    import HTML\n",
    "\n",
    "from sklearn.model_selection import train_test_split\n",
    "from sklearn.preprocessing   import LabelEncoder\n",
    "from sklearn.ensemble        import RandomForestRegressor\n",
    "from sklearn                 import linear_model\n",
    "from sklearn                 import metrics\n",
    "\n",
    "warnings.filterwarnings('ignore')"
   ]
  },
  {
   "cell_type": "markdown",
   "metadata": {},
   "source": [
    "## 0.1. Helper Functions"
   ]
  },
  {
   "cell_type": "code",
   "execution_count": 2,
   "metadata": {
    "ExecuteTime": {
     "end_time": "2019-07-26T01:10:52.465462Z",
     "start_time": "2019-07-26T01:10:52.456637Z"
    }
   },
   "outputs": [],
   "source": [
    "# --- Jupyter Notebook Settings\n",
    "def jupyter_settings():\n",
    "    %matplotlib inline\n",
    "    %pylab inline\n",
    "    plt.style.use( 'bmh' )\n",
    "    plt.rcParams['figure.figsize'] = [25,12]\n",
    "    plt.rcParams['font.size'] = 24\n",
    "    \n",
    "    display( HTML( '<style>.container { width:100% !important; }</style>' ) )\n",
    "    pd.options.display.max_columns = None\n",
    "    pd.options.display.max_rows = None\n",
    "    pd.set_option( 'display.expand_frame_repr', False )\n",
    "    \n",
    "    sns.set()"
   ]
  },
  {
   "cell_type": "code",
   "execution_count": 3,
   "metadata": {
    "ExecuteTime": {
     "end_time": "2019-07-26T01:10:53.047969Z",
     "start_time": "2019-07-26T01:10:53.031443Z"
    }
   },
   "outputs": [
    {
     "name": "stdout",
     "output_type": "stream",
     "text": [
      "Populating the interactive namespace from numpy and matplotlib\n"
     ]
    },
    {
     "data": {
      "text/html": [
       "<style>.container { width:100% !important; }</style>"
      ],
      "text/plain": [
       "<IPython.core.display.HTML object>"
      ]
     },
     "metadata": {},
     "output_type": "display_data"
    }
   ],
   "source": [
    "jupyter_settings()"
   ]
  },
  {
   "cell_type": "markdown",
   "metadata": {},
   "source": [
    "## 0.2. Loading Data"
   ]
  },
  {
   "cell_type": "code",
   "execution_count": 26,
   "metadata": {
    "ExecuteTime": {
     "end_time": "2019-07-26T09:20:40.617504Z",
     "start_time": "2019-07-26T09:20:39.608546Z"
    }
   },
   "outputs": [],
   "source": [
    "train = pd.read_csv( '../data/train.csv' )\n",
    "store = pd.read_csv( '../data/store.csv' )\n",
    "\n",
    "# Merge dataset\n",
    "#df_raw = pd.merge( df_sales_raw, df_stores_raw, on='Store', how='left' )"
   ]
  },
  {
   "cell_type": "code",
   "execution_count": 27,
   "metadata": {
    "ExecuteTime": {
     "end_time": "2019-07-26T09:20:41.464881Z",
     "start_time": "2019-07-26T09:20:41.459080Z"
    }
   },
   "outputs": [],
   "source": [
    "# fillna in store with 0 has better result than median()\n",
    "#store['CompetitionDistance'].fillna( store['CompetitionDistance'].median(), inplace=True )\n",
    "#store['CompetitionOpenSinceYear'].fillna( store['CompetitionDistance'].median(), inplace=True )\n",
    "#store['CompetitionOpenSinceMonth'].fillna( store['CompetitionDistance'].median(), inplace=True )\n",
    "\n",
    "store.fillna( 0, inplace=True )\n"
   ]
  },
  {
   "cell_type": "code",
   "execution_count": 28,
   "metadata": {
    "ExecuteTime": {
     "end_time": "2019-07-26T09:20:44.214240Z",
     "start_time": "2019-07-26T09:20:43.332341Z"
    }
   },
   "outputs": [],
   "source": [
    "# Merge dataset\n",
    "train = pd.merge( train, store, on='Store' )\n",
    "\n",
    "# Change data columns types\n",
    "train['Date'] = pd.to_datetime( train['Date'] )"
   ]
  },
  {
   "cell_type": "code",
   "execution_count": 29,
   "metadata": {
    "ExecuteTime": {
     "end_time": "2019-07-26T09:20:44.224750Z",
     "start_time": "2019-07-26T09:20:44.216387Z"
    }
   },
   "outputs": [
    {
     "data": {
      "text/plain": [
       "Store                                 int64\n",
       "DayOfWeek                             int64\n",
       "Date                         datetime64[ns]\n",
       "Sales                                 int64\n",
       "Customers                             int64\n",
       "Open                                  int64\n",
       "Promo                                 int64\n",
       "StateHoliday                         object\n",
       "SchoolHoliday                         int64\n",
       "StoreType                            object\n",
       "Assortment                           object\n",
       "CompetitionDistance                 float64\n",
       "CompetitionOpenSinceMonth           float64\n",
       "CompetitionOpenSinceYear            float64\n",
       "Promo2                                int64\n",
       "Promo2SinceWeek                     float64\n",
       "Promo2SinceYear                     float64\n",
       "PromoInterval                        object\n",
       "dtype: object"
      ]
     },
     "execution_count": 29,
     "metadata": {},
     "output_type": "execute_result"
    }
   ],
   "source": [
    "train.dtypes"
   ]
  },
  {
   "cell_type": "code",
   "execution_count": 30,
   "metadata": {
    "ExecuteTime": {
     "end_time": "2019-07-26T09:20:46.881027Z",
     "start_time": "2019-07-26T09:20:46.383837Z"
    }
   },
   "outputs": [],
   "source": [
    "# split the last 6 weeks data as hold-out set\n",
    "train = train.sort_values( ['Date'], ascending=False )\n",
    "\n",
    "ho_test = train[:6*7*1115]\n",
    "ho_train = train[6*7*1115:]"
   ]
  },
  {
   "cell_type": "code",
   "execution_count": 31,
   "metadata": {
    "ExecuteTime": {
     "end_time": "2019-07-26T09:20:47.514527Z",
     "start_time": "2019-07-26T09:20:47.234262Z"
    }
   },
   "outputs": [],
   "source": [
    "# only use data of Sales > 0 and Open is 1\n",
    "ho_test = ho_test[ ho_test['Open'] != 0 ]\n",
    "ho_test = ho_test[ ho_test['Sales'] > 0 ]\n",
    "\n",
    "ho_train = ho_train[ ho_train['Open'] != 0 ]\n",
    "ho_train = ho_train[ ho_train['Sales'] > 0 ]"
   ]
  },
  {
   "cell_type": "code",
   "execution_count": 32,
   "metadata": {
    "ExecuteTime": {
     "end_time": "2019-07-26T09:20:48.361339Z",
     "start_time": "2019-07-26T09:20:48.333210Z"
    }
   },
   "outputs": [],
   "source": [
    "# feature creation\n",
    "def features_create( data ):\n",
    "    mappings = {'0':0, 'a':1, 'b':2, 'c':3, 'd':4}\n",
    "    data.StoreType.replace( mappings, inplace=True )\n",
    "    data.Assortment.replace( mappings, inplace=True )\n",
    "    data.StateHoliday.replace( mappings, inplace=True )\n",
    "    \n",
    "    data['Year'] = data.Date.dt.year\n",
    "    data['Month'] = data.Date.dt.month\n",
    "    data['Day'] = data.Date.dt.day\n",
    "    data['DayOfWeek'] = data.Date.dt.dayofweek\n",
    "    data['WeekOfYear'] = data.Date.dt.weekofyear\n",
    "    \n",
    "    data['CompetitionOpen'] = 12 * ( data.Year - data.CompetitionOpenSinceYear ) + ( data.Month - data.CompetitionOpenSinceMonth )\n",
    "    data['PromoOpen'] = 12 * ( data.Year - data.Promo2SinceYear ) + ( data.WeekOfYear - data.Promo2SinceWeek ) / 4.0\n",
    "    data['CompetitionOpen'] = data.CompetitionOpen.apply( lambda x: x if x > 0 else 0 )\n",
    "    data['PromoOpen'] = data.PromoOpen.apply( lambda x: x if x > 0 else 0 )\n",
    "    \n",
    "    month2str = {1:'Jan', 2:'Feb', 3:'Mar', 4:'Apr', 5:'May', 6:'Jun', 7:'Jul', 8:'Aug', 9:'Sept', 10:'Oct', 11:'Nov', 12:'Dec'}\n",
    "    data['monthStr'] = data.Month.map( month2str )\n",
    "    data.loc[ data.PromoInterval == 0, 'PromoInterval' ] = ''\n",
    "    data['IsPromoMonth'] = 0\n",
    "    for interval in data.PromoInterval.unique():\n",
    "        if interval != '':\n",
    "            for month in interval.split( ',' ):\n",
    "                data.loc[(data.monthStr == month) & (data.PromoInterval == interval), 'IsPromoMonth'] = 1\n",
    "                \n",
    "    return data"
   ]
  },
  {
   "cell_type": "code",
   "execution_count": 33,
   "metadata": {
    "ExecuteTime": {
     "end_time": "2019-07-26T09:20:54.918987Z",
     "start_time": "2019-07-26T09:20:49.609446Z"
    }
   },
   "outputs": [
    {
     "name": "stdout",
     "output_type": "stream",
     "text": [
      "Features creation finished\n"
     ]
    }
   ],
   "source": [
    "features_create( ho_train )\n",
    "features_create( ho_test )\n",
    "print( 'Features creation finished' )"
   ]
  },
  {
   "cell_type": "code",
   "execution_count": 34,
   "metadata": {
    "ExecuteTime": {
     "end_time": "2019-07-26T09:23:43.214063Z",
     "start_time": "2019-07-26T09:23:43.079165Z"
    }
   },
   "outputs": [],
   "source": [
    "# drop the features of not help\n",
    "ho_train.drop( ['Date', 'Customers', 'Open', 'PromoInterval', 'monthStr'], axis=1, inplace=True )"
   ]
  },
  {
   "cell_type": "code",
   "execution_count": 35,
   "metadata": {
    "ExecuteTime": {
     "end_time": "2019-07-26T09:25:09.940348Z",
     "start_time": "2019-07-26T09:25:09.875418Z"
    }
   },
   "outputs": [],
   "source": [
    "ho_xtrain = ho_train.drop( ['Sales'], axis=1 )\n",
    "ho_ytrain = np.log1p( ho_train.Sales )\n",
    "\n",
    "ho_xtest = ho_test.drop( ['Sales'], axis=1 )\n",
    "ho_ytest = np.log1p( ho_test.Sales )"
   ]
  },
  {
   "cell_type": "code",
   "execution_count": 36,
   "metadata": {
    "ExecuteTime": {
     "end_time": "2019-07-26T09:27:24.242974Z",
     "start_time": "2019-07-26T09:27:24.221936Z"
    }
   },
   "outputs": [],
   "source": [
    "# define rmspe for xgb\n",
    "def rmspe( y, yhat ):\n",
    "    return np.sqrt( np.mean( ( yhat / y-1 )**2 ) )\n",
    "\n",
    "def rmspe_xg( yhat,  y ):\n",
    "    y = np.expm1( y.get_label() )\n",
    "    yhat = np.expm1( yhat )\n",
    "    return 'rmspe', rmspe( y, yhat )"
   ]
  },
  {
   "cell_type": "code",
   "execution_count": 37,
   "metadata": {
    "ExecuteTime": {
     "end_time": "2019-07-26T09:29:34.023375Z",
     "start_time": "2019-07-26T09:29:34.016970Z"
    }
   },
   "outputs": [],
   "source": [
    "params = {\n",
    "    'objective': 'reg:linear',\n",
    "    'booster': 'gbtree',\n",
    "    'eta': 0.03,\n",
    "    'max_depth': 10,\n",
    "    'subsample': 0.9,\n",
    "    'colsample_bytree': 0.7,\n",
    "    'silent': 1,\n",
    "    'seed': 10 \n",
    "}\n",
    "\n",
    "num_boost_round = 6000"
   ]
  },
  {
   "cell_type": "code",
   "execution_count": 38,
   "metadata": {
    "ExecuteTime": {
     "end_time": "2019-07-26T09:32:36.755486Z",
     "start_time": "2019-07-26T09:32:36.736007Z"
    }
   },
   "outputs": [
    {
     "ename": "NameError",
     "evalue": "name 'xgb' is not defined",
     "output_type": "error",
     "traceback": [
      "\u001b[0;31m---------------------------------------------------------------------------\u001b[0m",
      "\u001b[0;31mNameError\u001b[0m                                 Traceback (most recent call last)",
      "\u001b[0;32m<ipython-input-38-3d4e841cb5c7>\u001b[0m in \u001b[0;36m<module>\u001b[0;34m()\u001b[0m\n\u001b[0;32m----> 1\u001b[0;31m \u001b[0mdtrain\u001b[0m \u001b[0;34m=\u001b[0m \u001b[0mxgb\u001b[0m\u001b[0;34m.\u001b[0m\u001b[0mDMatrix\u001b[0m\u001b[0;34m(\u001b[0m \u001b[0mho_xtrain\u001b[0m\u001b[0;34m,\u001b[0m \u001b[0mho_ytrain\u001b[0m \u001b[0;34m)\u001b[0m\u001b[0;34m\u001b[0m\u001b[0m\n\u001b[0m\u001b[1;32m      2\u001b[0m \u001b[0mdvalid\u001b[0m \u001b[0;34m=\u001b[0m \u001b[0mxgb\u001b[0m\u001b[0;34m.\u001b[0m\u001b[0mDMatrix\u001b[0m\u001b[0;34m(\u001b[0m \u001b[0mho_xtest\u001b[0m\u001b[0;34m,\u001b[0m \u001b[0mho_ytest\u001b[0m \u001b[0;34m)\u001b[0m\u001b[0;34m\u001b[0m\u001b[0m\n\u001b[1;32m      3\u001b[0m \u001b[0mwatchlist\u001b[0m \u001b[0;34m=\u001b[0m \u001b[0;34m[\u001b[0m\u001b[0;34m(\u001b[0m\u001b[0mdtrain\u001b[0m\u001b[0;34m,\u001b[0m \u001b[0;34m'train'\u001b[0m\u001b[0;34m)\u001b[0m\u001b[0;34m,\u001b[0m \u001b[0;34m(\u001b[0m\u001b[0mdvalid\u001b[0m\u001b[0;34m,\u001b[0m \u001b[0;34m'eval'\u001b[0m\u001b[0;34m)\u001b[0m\u001b[0;34m]\u001b[0m\u001b[0;34m\u001b[0m\u001b[0m\n\u001b[1;32m      4\u001b[0m \u001b[0;34m\u001b[0m\u001b[0m\n\u001b[1;32m      5\u001b[0m \u001b[0mprint\u001b[0m\u001b[0;34m(\u001b[0m \u001b[0;34m'Train a XGBoost model'\u001b[0m \u001b[0;34m)\u001b[0m\u001b[0;34m\u001b[0m\u001b[0m\n",
      "\u001b[0;31mNameError\u001b[0m: name 'xgb' is not defined"
     ]
    }
   ],
   "source": [
    "dtrain = xgb.DMatrix( ho_xtrain, ho_ytrain )\n",
    "dvalid = xgb.DMatrix( ho_xtest, ho_ytest )\n",
    "watchlist = [(dtrain, 'train'), (dvalid, 'eval')]\n",
    "\n",
    "print( 'Train a XGBoost model' )\n",
    "start = time()\n",
    "gbm = xgb.train( params, dtrain, num_boost_round, evals=watchlist, early_stopping_rounds=100, feval=rmspe_xg, verbose_eval=True )\n",
    "end = time()\n",
    "\n",
    "print( 'Training Time is: {:2f}'.format( end-start ) )"
   ]
  },
  {
   "cell_type": "code",
   "execution_count": null,
   "metadata": {},
   "outputs": [],
   "source": []
  },
  {
   "cell_type": "code",
   "execution_count": null,
   "metadata": {},
   "outputs": [],
   "source": []
  },
  {
   "cell_type": "code",
   "execution_count": null,
   "metadata": {},
   "outputs": [],
   "source": []
  },
  {
   "cell_type": "code",
   "execution_count": null,
   "metadata": {},
   "outputs": [],
   "source": []
  },
  {
   "cell_type": "code",
   "execution_count": null,
   "metadata": {},
   "outputs": [],
   "source": []
  },
  {
   "cell_type": "code",
   "execution_count": null,
   "metadata": {},
   "outputs": [],
   "source": []
  },
  {
   "cell_type": "code",
   "execution_count": null,
   "metadata": {},
   "outputs": [],
   "source": []
  },
  {
   "cell_type": "code",
   "execution_count": null,
   "metadata": {},
   "outputs": [],
   "source": []
  },
  {
   "cell_type": "code",
   "execution_count": null,
   "metadata": {},
   "outputs": [],
   "source": []
  },
  {
   "cell_type": "code",
   "execution_count": null,
   "metadata": {},
   "outputs": [],
   "source": []
  },
  {
   "cell_type": "code",
   "execution_count": null,
   "metadata": {},
   "outputs": [],
   "source": []
  }
 ],
 "metadata": {
  "kernelspec": {
   "display_name": "Python 3",
   "language": "python",
   "name": "python3"
  },
  "language_info": {
   "codemirror_mode": {
    "name": "ipython",
    "version": 3
   },
   "file_extension": ".py",
   "mimetype": "text/x-python",
   "name": "python",
   "nbconvert_exporter": "python",
   "pygments_lexer": "ipython3",
   "version": "3.6.0"
  }
 },
 "nbformat": 4,
 "nbformat_minor": 2
}
