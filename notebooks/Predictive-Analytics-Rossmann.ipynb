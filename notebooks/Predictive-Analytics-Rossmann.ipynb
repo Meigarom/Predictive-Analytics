{
 "cells": [
  {
   "cell_type": "markdown",
   "metadata": {},
   "source": [
    "## 1. Import libraries"
   ]
  },
  {
   "cell_type": "markdown",
   "metadata": {},
   "source": [
    "# References:\n",
    "1. https://www.kaggle.com/hely333/eda-regression"
   ]
  },
  {
   "cell_type": "markdown",
   "metadata": {},
   "source": [
    "# Dataset\n",
    "1. https://www.kaggle.com/marcinex1423/salesdb-grocery#salesDB_grocery_market.zip\n",
    "1. https://www.kaggle.com/fayomi/advertising\n",
    "2. https://www.kaggle.com/harlfoxem/housesalesprediction\n",
    "3. https://github.com/awesomedata/awesome-public-datasets\n",
    "4. https://www.kdnuggets.com/datasets/index.html\n",
    "5. https://www.kaggle.com/devashish0507/big-mart-sales-prediction\n",
    "6. https://archive.ics.uci.edu/ml/datasets/Statlog+(Vehicle+Silhouettes)"
   ]
  },
  {
   "cell_type": "markdown",
   "metadata": {},
   "source": [
    "# 0. Imports\n",
    "---"
   ]
  },
  {
   "cell_type": "code",
   "execution_count": 1,
   "metadata": {
    "ExecuteTime": {
     "end_time": "2019-07-08T15:20:36.886158Z",
     "start_time": "2019-07-08T15:20:34.592771Z"
    }
   },
   "outputs": [],
   "source": [
    "import warnings\n",
    "import pandas                  as pd\n",
    "import seaborn                 as sns\n",
    "import statsmodels.api         as sm\n",
    "import statsmodels.formula.api as smf\n",
    "\n",
    "from matplotlib              import pyplot as plt\n",
    "from IPython.core.display    import HTML\n",
    "\n",
    "from sklearn.model_selection import train_test_split\n",
    "from sklearn.preprocessing   import LabelEncoder\n",
    "from sklearn.ensemble        import RandomForestRegressor\n",
    "from sklearn                 import linear_model\n",
    "from sklearn                 import metrics\n",
    "\n",
    "warnings.filterwarnings('ignore')"
   ]
  },
  {
   "cell_type": "markdown",
   "metadata": {},
   "source": [
    "## 0.1. Helper Functions"
   ]
  },
  {
   "cell_type": "code",
   "execution_count": 2,
   "metadata": {
    "ExecuteTime": {
     "end_time": "2019-07-08T15:20:45.476729Z",
     "start_time": "2019-07-08T15:20:45.459286Z"
    }
   },
   "outputs": [],
   "source": [
    "# --- Jupyter Notebook Settings\n",
    "def jupyter_settings():\n",
    "    %matplotlib inline\n",
    "    %pylab inline\n",
    "    plt.style.use( 'bmh' )\n",
    "    plt.rcParams['figure.figsize'] = [25,12]\n",
    "    plt.rcParams['font.size'] = 24\n",
    "    \n",
    "    display( HTML( '<style>.container { width:100% !important; }</style>' ) )\n",
    "    pd.options.display.max_columns = None\n",
    "    pd.options.display.max_rows = None\n",
    "    pd.set_option( 'display.expand_frame_repr', False )\n",
    "    \n",
    "    sns.set()"
   ]
  },
  {
   "cell_type": "code",
   "execution_count": 3,
   "metadata": {
    "ExecuteTime": {
     "end_time": "2019-07-08T15:20:46.046691Z",
     "start_time": "2019-07-08T15:20:46.028990Z"
    }
   },
   "outputs": [
    {
     "name": "stdout",
     "output_type": "stream",
     "text": [
      "Populating the interactive namespace from numpy and matplotlib\n"
     ]
    },
    {
     "data": {
      "text/html": [
       "<style>.container { width:100% !important; }</style>"
      ],
      "text/plain": [
       "<IPython.core.display.HTML object>"
      ]
     },
     "metadata": {},
     "output_type": "display_data"
    }
   ],
   "source": [
    "jupyter_settings()"
   ]
  },
  {
   "cell_type": "markdown",
   "metadata": {},
   "source": [
    "## 0.2. Loading Data"
   ]
  },
  {
   "cell_type": "code",
   "execution_count": 4,
   "metadata": {
    "ExecuteTime": {
     "end_time": "2019-07-08T15:20:48.099009Z",
     "start_time": "2019-07-08T15:20:46.503534Z"
    }
   },
   "outputs": [],
   "source": [
    "df_sales_raw = pd.read_csv( '../data/train.csv' )\n",
    "df_stores_raw = pd.read_csv( '../data/store.csv' )\n",
    "\n",
    "# Merge dataset\n",
    "df_raw = pd.merge( df_sales_raw, df_stores_raw, on='Store', how='left' )"
   ]
  },
  {
   "cell_type": "markdown",
   "metadata": {},
   "source": [
    "# 1.0. Data Preparation\n",
    "---"
   ]
  },
  {
   "cell_type": "code",
   "execution_count": 5,
   "metadata": {
    "ExecuteTime": {
     "end_time": "2019-07-08T15:20:48.190615Z",
     "start_time": "2019-07-08T15:20:48.101930Z"
    }
   },
   "outputs": [
    {
     "data": {
      "text/html": [
       "<div>\n",
       "<style scoped>\n",
       "    .dataframe tbody tr th:only-of-type {\n",
       "        vertical-align: middle;\n",
       "    }\n",
       "\n",
       "    .dataframe tbody tr th {\n",
       "        vertical-align: top;\n",
       "    }\n",
       "\n",
       "    .dataframe thead th {\n",
       "        text-align: right;\n",
       "    }\n",
       "</style>\n",
       "<table border=\"1\" class=\"dataframe\">\n",
       "  <thead>\n",
       "    <tr style=\"text-align: right;\">\n",
       "      <th></th>\n",
       "      <th>Store</th>\n",
       "      <th>DayOfWeek</th>\n",
       "      <th>Date</th>\n",
       "      <th>Sales</th>\n",
       "      <th>Customers</th>\n",
       "      <th>Open</th>\n",
       "      <th>Promo</th>\n",
       "      <th>StateHoliday</th>\n",
       "      <th>SchoolHoliday</th>\n",
       "      <th>StoreType</th>\n",
       "      <th>Assortment</th>\n",
       "      <th>CompetitionDistance</th>\n",
       "      <th>CompetitionOpenSinceMonth</th>\n",
       "      <th>CompetitionOpenSinceYear</th>\n",
       "      <th>Promo2</th>\n",
       "      <th>Promo2SinceWeek</th>\n",
       "      <th>Promo2SinceYear</th>\n",
       "      <th>PromoInterval</th>\n",
       "    </tr>\n",
       "  </thead>\n",
       "  <tbody>\n",
       "    <tr>\n",
       "      <th>0</th>\n",
       "      <td>1</td>\n",
       "      <td>5</td>\n",
       "      <td>2015-07-31</td>\n",
       "      <td>5263</td>\n",
       "      <td>555</td>\n",
       "      <td>1</td>\n",
       "      <td>1</td>\n",
       "      <td>0</td>\n",
       "      <td>1</td>\n",
       "      <td>c</td>\n",
       "      <td>a</td>\n",
       "      <td>1270.0</td>\n",
       "      <td>9.0</td>\n",
       "      <td>2008.0</td>\n",
       "      <td>0</td>\n",
       "      <td>NaN</td>\n",
       "      <td>NaN</td>\n",
       "      <td>NaN</td>\n",
       "    </tr>\n",
       "    <tr>\n",
       "      <th>1</th>\n",
       "      <td>2</td>\n",
       "      <td>5</td>\n",
       "      <td>2015-07-31</td>\n",
       "      <td>6064</td>\n",
       "      <td>625</td>\n",
       "      <td>1</td>\n",
       "      <td>1</td>\n",
       "      <td>0</td>\n",
       "      <td>1</td>\n",
       "      <td>a</td>\n",
       "      <td>a</td>\n",
       "      <td>570.0</td>\n",
       "      <td>11.0</td>\n",
       "      <td>2007.0</td>\n",
       "      <td>1</td>\n",
       "      <td>13.0</td>\n",
       "      <td>2010.0</td>\n",
       "      <td>Jan,Apr,Jul,Oct</td>\n",
       "    </tr>\n",
       "  </tbody>\n",
       "</table>\n",
       "</div>"
      ],
      "text/plain": [
       "   Store  DayOfWeek        Date  Sales  Customers  Open  Promo StateHoliday  SchoolHoliday StoreType Assortment  CompetitionDistance  CompetitionOpenSinceMonth  CompetitionOpenSinceYear  Promo2  Promo2SinceWeek  Promo2SinceYear    PromoInterval\n",
       "0      1          5  2015-07-31   5263        555     1      1            0              1         c          a               1270.0                        9.0                    2008.0       0              NaN              NaN              NaN\n",
       "1      2          5  2015-07-31   6064        625     1      1            0              1         a          a                570.0                       11.0                    2007.0       1             13.0           2010.0  Jan,Apr,Jul,Oct"
      ]
     },
     "execution_count": 5,
     "metadata": {},
     "output_type": "execute_result"
    }
   ],
   "source": [
    "df_raw.head(2)"
   ]
  },
  {
   "cell_type": "markdown",
   "metadata": {},
   "source": [
    "## 1.1. Rename Attributes"
   ]
  },
  {
   "cell_type": "code",
   "execution_count": 6,
   "metadata": {
    "ExecuteTime": {
     "end_time": "2019-07-08T15:20:48.627431Z",
     "start_time": "2019-07-08T15:20:48.203464Z"
    }
   },
   "outputs": [],
   "source": [
    "df1 = df_raw.copy()"
   ]
  },
  {
   "cell_type": "code",
   "execution_count": 7,
   "metadata": {
    "ExecuteTime": {
     "end_time": "2019-07-08T15:20:48.637903Z",
     "start_time": "2019-07-08T15:20:48.630985Z"
    }
   },
   "outputs": [],
   "source": [
    "# new columns name\n",
    "new_cols=['store', 'day_of_week', 'date', 'sales', 'customers', 'open', 'promo', 'state_holiday', 'school_holiday', 'store_type', 'assortment', 'competition_distance', 'competition_open_since_month', \n",
    "          'competition_open_since_year', 'promo2', 'promo2_since_week', 'promo2_since_year', 'promo_interval']\n",
    "\n",
    "# rename\n",
    "df1.columns = new_cols"
   ]
  },
  {
   "cell_type": "markdown",
   "metadata": {},
   "source": [
    "# 2.0. Describe data\n",
    "---"
   ]
  },
  {
   "cell_type": "code",
   "execution_count": 8,
   "metadata": {
    "ExecuteTime": {
     "end_time": "2019-07-08T15:20:48.950471Z",
     "start_time": "2019-07-08T15:20:48.652919Z"
    }
   },
   "outputs": [],
   "source": [
    "df2 = df1.copy()"
   ]
  },
  {
   "cell_type": "markdown",
   "metadata": {},
   "source": [
    "## 2.1. Data dimension"
   ]
  },
  {
   "cell_type": "code",
   "execution_count": 9,
   "metadata": {
    "ExecuteTime": {
     "end_time": "2019-07-08T15:20:49.288132Z",
     "start_time": "2019-07-08T15:20:49.281852Z"
    }
   },
   "outputs": [
    {
     "name": "stdout",
     "output_type": "stream",
     "text": [
      "Number of Rows: 1017209\n",
      "Number of Columns: 18\n"
     ]
    }
   ],
   "source": [
    "print( 'Number of Rows: {}'.format( df2.shape[0] ) )\n",
    "print( 'Number of Columns: {}'.format( df2.shape[1] ) )"
   ]
  },
  {
   "cell_type": "markdown",
   "metadata": {},
   "source": [
    "## 2.2. Data Type Attributes"
   ]
  },
  {
   "cell_type": "code",
   "execution_count": 10,
   "metadata": {
    "ExecuteTime": {
     "end_time": "2019-07-08T15:20:49.959974Z",
     "start_time": "2019-07-08T15:20:49.953230Z"
    }
   },
   "outputs": [
    {
     "name": "stdout",
     "output_type": "stream",
     "text": [
      "store                             int64\n",
      "day_of_week                       int64\n",
      "date                             object\n",
      "sales                             int64\n",
      "customers                         int64\n",
      "open                              int64\n",
      "promo                             int64\n",
      "state_holiday                    object\n",
      "school_holiday                    int64\n",
      "store_type                       object\n",
      "assortment                       object\n",
      "competition_distance            float64\n",
      "competition_open_since_month    float64\n",
      "competition_open_since_year     float64\n",
      "promo2                            int64\n",
      "promo2_since_week               float64\n",
      "promo2_since_year               float64\n",
      "promo_interval                   object\n",
      "dtype: object\n"
     ]
    }
   ],
   "source": [
    "print( df2.dtypes )"
   ]
  },
  {
   "cell_type": "markdown",
   "metadata": {},
   "source": [
    "## 2.3. Number of NA"
   ]
  },
  {
   "cell_type": "code",
   "execution_count": 11,
   "metadata": {
    "ExecuteTime": {
     "end_time": "2019-07-08T15:20:51.518767Z",
     "start_time": "2019-07-08T15:20:50.952863Z"
    }
   },
   "outputs": [
    {
     "data": {
      "text/plain": [
       "store                                0\n",
       "day_of_week                          0\n",
       "date                                 0\n",
       "sales                                0\n",
       "customers                            0\n",
       "open                                 0\n",
       "promo                                0\n",
       "state_holiday                        0\n",
       "school_holiday                       0\n",
       "store_type                           0\n",
       "assortment                           0\n",
       "competition_distance              2642\n",
       "competition_open_since_month    323348\n",
       "competition_open_since_year     323348\n",
       "promo2                               0\n",
       "promo2_since_week               508031\n",
       "promo2_since_year               508031\n",
       "promo_interval                  508031\n",
       "dtype: int64"
      ]
     },
     "execution_count": 11,
     "metadata": {},
     "output_type": "execute_result"
    }
   ],
   "source": [
    "df2.isna().sum()"
   ]
  },
  {
   "cell_type": "code",
   "execution_count": 12,
   "metadata": {
    "ExecuteTime": {
     "end_time": "2019-07-08T15:20:52.326933Z",
     "start_time": "2019-07-08T15:20:51.806307Z"
    }
   },
   "outputs": [
    {
     "name": "stdout",
     "output_type": "stream",
     "text": [
      "<class 'pandas.core.frame.DataFrame'>\n",
      "Int64Index: 1017209 entries, 0 to 1017208\n",
      "Data columns (total 18 columns):\n",
      "store                           1017209 non-null int64\n",
      "day_of_week                     1017209 non-null int64\n",
      "date                            1017209 non-null object\n",
      "sales                           1017209 non-null int64\n",
      "customers                       1017209 non-null int64\n",
      "open                            1017209 non-null int64\n",
      "promo                           1017209 non-null int64\n",
      "state_holiday                   1017209 non-null object\n",
      "school_holiday                  1017209 non-null int64\n",
      "store_type                      1017209 non-null object\n",
      "assortment                      1017209 non-null object\n",
      "competition_distance            1014567 non-null float64\n",
      "competition_open_since_month    693861 non-null float64\n",
      "competition_open_since_year     693861 non-null float64\n",
      "promo2                          1017209 non-null int64\n",
      "promo2_since_week               509178 non-null float64\n",
      "promo2_since_year               509178 non-null float64\n",
      "promo_interval                  509178 non-null object\n",
      "dtypes: float64(5), int64(8), object(5)\n",
      "memory usage: 147.5+ MB\n"
     ]
    }
   ],
   "source": [
    "df2.info()"
   ]
  },
  {
   "cell_type": "markdown",
   "metadata": {},
   "source": [
    "## 2.4. Treat NA columns"
   ]
  },
  {
   "cell_type": "markdown",
   "metadata": {},
   "source": [
    "### 2.4.0. promo2_since_week"
   ]
  },
  {
   "cell_type": "code",
   "execution_count": null,
   "metadata": {
    "ExecuteTime": {
     "start_time": "2019-07-08T15:24:16.218Z"
    }
   },
   "outputs": [],
   "source": [
    "df2['promo2_since_week'] = df2.apply( lambda x: x['date'].weekofyear if math.isnan( x['promo2_since_week'] ) else x['promo2_since_week'], axis=1 )"
   ]
  },
  {
   "cell_type": "markdown",
   "metadata": {},
   "source": [
    "### 2.4.1. promo2_since_year"
   ]
  },
  {
   "cell_type": "code",
   "execution_count": null,
   "metadata": {
    "ExecuteTime": {
     "end_time": "2019-07-08T15:20:55.081433Z",
     "start_time": "2019-07-08T15:20:53.552Z"
    }
   },
   "outputs": [],
   "source": [
    "df2['promo2_since_year'] = df2.apply( lambda x: x['date'].year if math.isnan( x['promo2_since_year'] ) else x['promo2_since_year'], axis=1 )"
   ]
  },
  {
   "cell_type": "markdown",
   "metadata": {},
   "source": [
    "### 2.4.2. competition_distance"
   ]
  },
  {
   "cell_type": "code",
   "execution_count": null,
   "metadata": {
    "ExecuteTime": {
     "end_time": "2019-07-08T15:20:55.083909Z",
     "start_time": "2019-07-08T15:20:54.081Z"
    }
   },
   "outputs": [],
   "source": [
    "df2['competition_distance'] = df2['competition_distance'].apply( lambda x: 200000.0 if math.isnan( x ) else x )"
   ]
  },
  {
   "cell_type": "markdown",
   "metadata": {},
   "source": [
    "### 2.4.3. competition_open_since_month"
   ]
  },
  {
   "cell_type": "code",
   "execution_count": null,
   "metadata": {
    "ExecuteTime": {
     "end_time": "2019-07-08T15:20:55.085740Z",
     "start_time": "2019-07-08T15:20:54.532Z"
    }
   },
   "outputs": [],
   "source": [
    "df2['competition_open_since_month'] = df2.apply( lambda x: x['date'].month if math.isnan( x['competition_open_since_month'] ) else x['competition_open_since_month'], axis=1 ) "
   ]
  },
  {
   "cell_type": "markdown",
   "metadata": {},
   "source": [
    "### 2.4.4. competition_open_since_year"
   ]
  },
  {
   "cell_type": "code",
   "execution_count": null,
   "metadata": {
    "ExecuteTime": {
     "end_time": "2019-07-08T15:20:56.651452Z",
     "start_time": "2019-07-08T15:20:55.206307Z"
    }
   },
   "outputs": [],
   "source": [
    "df2['competition_open_since_year'] = df2.apply( lambda x: x['date'].year if math.isnan( x['competition_open_since_year'] ) else x['competition_open_since_year'], axis=1 )"
   ]
  },
  {
   "cell_type": "markdown",
   "metadata": {},
   "source": [
    "### 2.4.5. promo_interval"
   ]
  },
  {
   "cell_type": "code",
   "execution_count": null,
   "metadata": {
    "ExecuteTime": {
     "end_time": "2019-07-08T15:20:56.657472Z",
     "start_time": "2019-07-08T15:20:55.801Z"
    }
   },
   "outputs": [],
   "source": [
    "df2 = df2.drop( 'promo_interval', axis=1 )"
   ]
  },
  {
   "cell_type": "markdown",
   "metadata": {},
   "source": [
    "## 2.4. Descriptive statistics"
   ]
  },
  {
   "cell_type": "code",
   "execution_count": null,
   "metadata": {
    "ExecuteTime": {
     "end_time": "2019-07-08T15:20:56.659880Z",
     "start_time": "2019-07-08T15:20:56.432Z"
    }
   },
   "outputs": [],
   "source": [
    "df2.dtypes"
   ]
  },
  {
   "cell_type": "code",
   "execution_count": 15,
   "metadata": {
    "ExecuteTime": {
     "end_time": "2019-07-08T15:20:57.089220Z",
     "start_time": "2019-07-08T15:20:56.906800Z"
    }
   },
   "outputs": [
    {
     "name": "stdout",
     "output_type": "stream",
     "text": [
      "Num of Categorical: 5\n",
      "Num of Numerical: 13\n"
     ]
    }
   ],
   "source": [
    "# separate the categorical from numerical features\n",
    "num_attributes = df2.select_dtypes( include=['int64', 'float64'] )\n",
    "cat_attributes = df2.select_dtypes( exclude=['int64', 'float64'] )\n",
    "dat_attributes = df2.select_dtypes( include=['datetime64[ns]'] )\n",
    "\n",
    "print( 'Num of Categorical: {}'.format( cat_attributes.shape[1] ) )\n",
    "print( 'Num of Numerical: {}'.format( num_attributes.shape[1] ) )"
   ]
  },
  {
   "cell_type": "markdown",
   "metadata": {},
   "source": [
    "### 2.4.1. Central Tendency and Dispersion "
   ]
  },
  {
   "cell_type": "markdown",
   "metadata": {},
   "source": [
    "#### 2.4.1.1. Numerical Attributes"
   ]
  },
  {
   "cell_type": "code",
   "execution_count": 16,
   "metadata": {
    "ExecuteTime": {
     "end_time": "2019-07-08T15:21:03.197885Z",
     "start_time": "2019-07-08T15:20:58.555518Z"
    }
   },
   "outputs": [],
   "source": [
    "# Meausure of Central Tendency\n",
    "ct1 = pd.DataFrame( num_attributes.apply( mean ) ).T\n",
    "ct2 = pd.DataFrame( num_attributes.apply( median ) ).T\n",
    "#ct3 = pd.DataFrame( num_attributes.apply( lambda x: x.mode() ) )\n",
    "#ct3 = pd.DataFrame( num_attributes.apply( lambda x: x.mode(), axis=1 ) )\n",
    "\n",
    "# Dispersion\n",
    "d1 = pd.DataFrame( num_attributes.apply( std ) ).T\n",
    "d2 = pd.DataFrame( num_attributes.apply( min ) ).T\n",
    "d3 = pd.DataFrame( num_attributes.apply( max ) ).T\n",
    "d4 = pd.DataFrame( num_attributes.apply( lambda x: x.max() - x.min() ) ).T\n",
    "d5 = pd.DataFrame( num_attributes.apply( lambda x: x.kurtosis ) ).T\n",
    "d6 = pd.DataFrame( num_attributes.apply( lambda x: x.skew() ) ).T\n",
    "\n",
    "m = pd.concat( [ct1, ct2, d1, d2, d3, d4, d5, d6] ).T.reset_index()\n",
    "##m.columns = ['attributes', 'mean', 'median', 'mode', 'standard_deviation', 'min', 'max', 'range', 'kurtosis', 'skew']\n",
    "##print( m )"
   ]
  },
  {
   "cell_type": "code",
   "execution_count": null,
   "metadata": {
    "ExecuteTime": {
     "start_time": "2019-07-08T15:20:59.049Z"
    }
   },
   "outputs": [],
   "source": [
    "m"
   ]
  },
  {
   "cell_type": "markdown",
   "metadata": {},
   "source": [
    "### 2.4.1.2. Categorical Attributes"
   ]
  },
  {
   "cell_type": "code",
   "execution_count": null,
   "metadata": {
    "ExecuteTime": {
     "start_time": "2019-07-08T15:21:00.598Z"
    }
   },
   "outputs": [],
   "source": [
    "c = pd.DataFrame( cat_attributes.apply( lambda x: x.unique().shape[0], axis=0 ).reset_index() )\n",
    "c.columns = ['Columns Names', 'Number of Levels']\n",
    "print( c )"
   ]
  },
  {
   "cell_type": "code",
   "execution_count": null,
   "metadata": {},
   "outputs": [],
   "source": []
  },
  {
   "cell_type": "code",
   "execution_count": null,
   "metadata": {},
   "outputs": [],
   "source": []
  },
  {
   "cell_type": "code",
   "execution_count": null,
   "metadata": {},
   "outputs": [],
   "source": []
  },
  {
   "cell_type": "code",
   "execution_count": null,
   "metadata": {},
   "outputs": [],
   "source": []
  }
 ],
 "metadata": {
  "kernelspec": {
   "display_name": "Python 3",
   "language": "python",
   "name": "python3"
  },
  "language_info": {
   "codemirror_mode": {
    "name": "ipython",
    "version": 3
   },
   "file_extension": ".py",
   "mimetype": "text/x-python",
   "name": "python",
   "nbconvert_exporter": "python",
   "pygments_lexer": "ipython3",
   "version": "3.6.0"
  }
 },
 "nbformat": 4,
 "nbformat_minor": 2
}
